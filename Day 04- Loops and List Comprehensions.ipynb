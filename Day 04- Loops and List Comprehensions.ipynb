{
 "cells": [
  {
   "cell_type": "markdown",
   "id": "e2bef1e0-b722-4fb3-99a2-b96d169db2af",
   "metadata": {},
   "source": [
    "### Create a list of the squares of numbers from 1 to 20 using both loops and list Comprehensions"
   ]
  },
  {
   "cell_type": "code",
   "execution_count": 72,
   "id": "bbb05119-ed59-4340-a233-e08a23a85fda",
   "metadata": {},
   "outputs": [
    {
     "name": "stdout",
     "output_type": "stream",
     "text": [
      "Squares of numbers from 1 to 20\n",
      "1. Using For Loop\n",
      "\t [1, 4, 9, 16, 25, 36, 49, 64, 81, 100, 121, 144, 169, 196, 225, 256, 289, 324, 361, 400]\n",
      "\n",
      "Squares of numbers from 1 to 20\n",
      "2. Using For List Comprehensions\n",
      "\t [1, 4, 9, 16, 25, 36, 49, 64, 81, 100, 121, 144, 169, 196, 225, 256, 289, 324, 361, 400]\n"
     ]
    }
   ],
   "source": [
    "print(\"Squares of numbers from 1 to 20\")\n",
    "print(\"1. Using For Loop\")\n",
    "myList=[]\n",
    "for x in range(1,21,1):\n",
    "    myList.append(x*x)\n",
    "print(\"\\t\",myList)\n",
    "\n",
    "print(\"\\nSquares of numbers from 1 to 20\")\n",
    "print(\"2. Using For List Comprehensions\")\n",
    "# generate squares of numbers using List Comprehension\n",
    "myList1=[x*x for x in range(1,21)]\n",
    "print(\"\\t\",myList1)"
   ]
  },
  {
   "cell_type": "code",
   "execution_count": null,
   "id": "7edfb00c-21fa-483d-bb21-06518f9f0a34",
   "metadata": {},
   "outputs": [],
   "source": [
    "\n",
    "\n"
   ]
  },
  {
   "cell_type": "markdown",
   "id": "df866e08-7bd5-4f81-a8e7-f29a002f74d0",
   "metadata": {},
   "source": [
    "### Write a function that finds all prime numbers in a range."
   ]
  },
  {
   "cell_type": "code",
   "execution_count": 76,
   "id": "6b020232-c3a8-47fe-8468-e7aecf3319ed",
   "metadata": {},
   "outputs": [
    {
     "name": "stdout",
     "output_type": "stream",
     "text": [
      "Program to print PRIME NUMBERS between specific range\n"
     ]
    },
    {
     "name": "stdin",
     "output_type": "stream",
     "text": [
      "\tEnter starting number of the range 100\n",
      "\tEnter finishing number of the range 1000\n"
     ]
    },
    {
     "name": "stdout",
     "output_type": "stream",
     "text": [
      "101 \t103 \t107 \t109 \t113 \t127 \t131 \t137 \t139 \t149 \t151 \t157 \t163 \t167 \t173 \t179 \t181 \t191 \t193 \t197 \t199 \t211 \t223 \t227 \t229 \t233 \t239 \t241 \t251 \t257 \t263 \t269 \t271 \t277 \t281 \t283 \t293 \t307 \t311 \t313 \t317 \t331 \t337 \t347 \t349 \t353 \t359 \t367 \t373 \t379 \t383 \t389 \t397 \t401 \t409 \t419 \t421 \t431 \t433 \t439 \t443 \t449 \t457 \t461 \t463 \t467 \t479 \t487 \t491 \t499 \t503 \t509 \t521 \t523 \t541 \t547 \t557 \t563 \t569 \t571 \t577 \t587 \t593 \t599 \t601 \t607 \t613 \t617 \t619 \t631 \t641 \t643 \t647 \t653 \t659 \t661 \t673 \t677 \t683 \t691 \t701 \t709 \t719 \t727 \t733 \t739 \t743 \t751 \t757 \t761 \t769 \t773 \t787 \t797 \t809 \t811 \t821 \t823 \t827 \t829 \t839 \t853 \t857 \t859 \t863 \t877 \t881 \t883 \t887 \t907 \t911 \t919 \t929 \t937 \t941 \t947 \t953 \t967 \t971 \t977 \t983 \t991 \t997 \t"
     ]
    }
   ],
   "source": [
    "def printPrime(start,end):\n",
    "    if start<2:\n",
    "        start=2\n",
    "    tempStart=start\n",
    "    while tempStart<=end:\n",
    "        mod_status=True\n",
    "        for x in range(2,tempStart,1):\n",
    "            #print(x)\n",
    "            if tempStart%x == 0:\n",
    "                mod_status=False\n",
    "                #print(tempStart,\" \" ,x,\" \",mod_status)\n",
    "        if mod_status==True:\n",
    "            print(tempStart,\"\\t\",end=\"\")\n",
    "        mod_status=True\n",
    "        tempStart += 1\n",
    "        \n",
    "\n",
    "\n",
    "print(\"Program to print PRIME NUMBERS between specific range\")\n",
    "first=int(input(\"\\tEnter starting number of the range\"))\n",
    "last=int(input(\"\\tEnter finishing number of the range\"))\n",
    "printPrime(first,last)"
   ]
  },
  {
   "cell_type": "code",
   "execution_count": null,
   "id": "ce4ff265-0ab6-4800-a0b6-a07945ce3996",
   "metadata": {},
   "outputs": [],
   "source": []
  }
 ],
 "metadata": {
  "kernelspec": {
   "display_name": "Python 3 (ipykernel)",
   "language": "python",
   "name": "python3"
  },
  "language_info": {
   "codemirror_mode": {
    "name": "ipython",
    "version": 3
   },
   "file_extension": ".py",
   "mimetype": "text/x-python",
   "name": "python",
   "nbconvert_exporter": "python",
   "pygments_lexer": "ipython3",
   "version": "3.12.7"
  }
 },
 "nbformat": 4,
 "nbformat_minor": 5
}
